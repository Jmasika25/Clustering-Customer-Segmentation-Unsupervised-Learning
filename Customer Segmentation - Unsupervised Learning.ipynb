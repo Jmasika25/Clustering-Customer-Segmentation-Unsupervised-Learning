{
 "cells": [
  {
   "cell_type": "markdown",
   "id": "c6bbdcc0",
   "metadata": {},
   "source": [
    "# Unsupervised Learning - K-Means and Hierarchical Clustering"
   ]
  },
  {
   "cell_type": "code",
   "execution_count": 1,
   "id": "d735ca22",
   "metadata": {},
   "outputs": [],
   "source": [
    "# Load the libraries\n",
    "import pandas as pd\n",
    "import numpy as np\n",
    "import seaborn as sns\n",
    "import matplotlib.pyplot as plt\n",
    "from sklearn.decomposition import PCA\n",
    "from sklearn.metrics import silhouette_score\n",
    "from sklearn.cluster import KMeans"
   ]
  },
  {
   "cell_type": "markdown",
   "id": "dc120bbb",
   "metadata": {},
   "source": [
    "### Load the 2 datasets"
   ]
  },
  {
   "cell_type": "code",
   "execution_count": 2,
   "id": "b20da9a5",
   "metadata": {},
   "outputs": [
    {
     "data": {
      "text/html": [
       "<div>\n",
       "<style scoped>\n",
       "    .dataframe tbody tr th:only-of-type {\n",
       "        vertical-align: middle;\n",
       "    }\n",
       "\n",
       "    .dataframe tbody tr th {\n",
       "        vertical-align: top;\n",
       "    }\n",
       "\n",
       "    .dataframe thead th {\n",
       "        text-align: right;\n",
       "    }\n",
       "</style>\n",
       "<table border=\"1\" class=\"dataframe\">\n",
       "  <thead>\n",
       "    <tr style=\"text-align: right;\">\n",
       "      <th></th>\n",
       "      <th>InvoiceNo</th>\n",
       "      <th>StockCode</th>\n",
       "      <th>Description</th>\n",
       "      <th>Quantity</th>\n",
       "      <th>InvoiceDate</th>\n",
       "      <th>UnitPrice</th>\n",
       "      <th>CustomerID</th>\n",
       "      <th>Country</th>\n",
       "    </tr>\n",
       "  </thead>\n",
       "  <tbody>\n",
       "    <tr>\n",
       "      <th>0</th>\n",
       "      <td>536365</td>\n",
       "      <td>85123A</td>\n",
       "      <td>WHITE HANGING HEART T-LIGHT HOLDER</td>\n",
       "      <td>6</td>\n",
       "      <td>2010-12-01 08:26:00</td>\n",
       "      <td>2.55</td>\n",
       "      <td>17850.0</td>\n",
       "      <td>United Kingdom</td>\n",
       "    </tr>\n",
       "    <tr>\n",
       "      <th>1</th>\n",
       "      <td>536365</td>\n",
       "      <td>71053</td>\n",
       "      <td>WHITE METAL LANTERN</td>\n",
       "      <td>6</td>\n",
       "      <td>2010-12-01 08:26:00</td>\n",
       "      <td>3.39</td>\n",
       "      <td>17850.0</td>\n",
       "      <td>United Kingdom</td>\n",
       "    </tr>\n",
       "    <tr>\n",
       "      <th>2</th>\n",
       "      <td>536365</td>\n",
       "      <td>84406B</td>\n",
       "      <td>CREAM CUPID HEARTS COAT HANGER</td>\n",
       "      <td>8</td>\n",
       "      <td>2010-12-01 08:26:00</td>\n",
       "      <td>2.75</td>\n",
       "      <td>17850.0</td>\n",
       "      <td>United Kingdom</td>\n",
       "    </tr>\n",
       "    <tr>\n",
       "      <th>3</th>\n",
       "      <td>536365</td>\n",
       "      <td>84029G</td>\n",
       "      <td>KNITTED UNION FLAG HOT WATER BOTTLE</td>\n",
       "      <td>6</td>\n",
       "      <td>2010-12-01 08:26:00</td>\n",
       "      <td>3.39</td>\n",
       "      <td>17850.0</td>\n",
       "      <td>United Kingdom</td>\n",
       "    </tr>\n",
       "    <tr>\n",
       "      <th>4</th>\n",
       "      <td>536365</td>\n",
       "      <td>84029E</td>\n",
       "      <td>RED WOOLLY HOTTIE WHITE HEART.</td>\n",
       "      <td>6</td>\n",
       "      <td>2010-12-01 08:26:00</td>\n",
       "      <td>3.39</td>\n",
       "      <td>17850.0</td>\n",
       "      <td>United Kingdom</td>\n",
       "    </tr>\n",
       "  </tbody>\n",
       "</table>\n",
       "</div>"
      ],
      "text/plain": [
       "  InvoiceNo StockCode                          Description  Quantity  \\\n",
       "0    536365    85123A   WHITE HANGING HEART T-LIGHT HOLDER         6   \n",
       "1    536365     71053                  WHITE METAL LANTERN         6   \n",
       "2    536365    84406B       CREAM CUPID HEARTS COAT HANGER         8   \n",
       "3    536365    84029G  KNITTED UNION FLAG HOT WATER BOTTLE         6   \n",
       "4    536365    84029E       RED WOOLLY HOTTIE WHITE HEART.         6   \n",
       "\n",
       "          InvoiceDate  UnitPrice  CustomerID         Country  \n",
       "0 2010-12-01 08:26:00       2.55     17850.0  United Kingdom  \n",
       "1 2010-12-01 08:26:00       3.39     17850.0  United Kingdom  \n",
       "2 2010-12-01 08:26:00       2.75     17850.0  United Kingdom  \n",
       "3 2010-12-01 08:26:00       3.39     17850.0  United Kingdom  \n",
       "4 2010-12-01 08:26:00       3.39     17850.0  United Kingdom  "
      ]
     },
     "execution_count": 2,
     "metadata": {},
     "output_type": "execute_result"
    }
   ],
   "source": [
    "df = pd.read_excel(r\"Online Retail.xlsx\")\n",
    "df.head(5)"
   ]
  },
  {
   "cell_type": "code",
   "execution_count": 3,
   "id": "118ac3fa",
   "metadata": {},
   "outputs": [
    {
     "data": {
      "text/plain": [
       "Index(['InvoiceNo', 'StockCode', 'Description', 'Quantity', 'InvoiceDate',\n",
       "       'UnitPrice', 'CustomerID', 'Country'],\n",
       "      dtype='object')"
      ]
     },
     "execution_count": 3,
     "metadata": {},
     "output_type": "execute_result"
    }
   ],
   "source": [
    "df.columns"
   ]
  },
  {
   "cell_type": "code",
   "execution_count": 4,
   "id": "99cb7e7f",
   "metadata": {},
   "outputs": [
    {
     "data": {
      "text/html": [
       "<div>\n",
       "<style scoped>\n",
       "    .dataframe tbody tr th:only-of-type {\n",
       "        vertical-align: middle;\n",
       "    }\n",
       "\n",
       "    .dataframe tbody tr th {\n",
       "        vertical-align: top;\n",
       "    }\n",
       "\n",
       "    .dataframe thead th {\n",
       "        text-align: right;\n",
       "    }\n",
       "</style>\n",
       "<table border=\"1\" class=\"dataframe\">\n",
       "  <thead>\n",
       "    <tr style=\"text-align: right;\">\n",
       "      <th></th>\n",
       "      <th>CustomerID</th>\n",
       "      <th>Genre</th>\n",
       "      <th>Age</th>\n",
       "      <th>Annual Income (k$)</th>\n",
       "      <th>Spending Score (1-100)</th>\n",
       "    </tr>\n",
       "  </thead>\n",
       "  <tbody>\n",
       "    <tr>\n",
       "      <th>0</th>\n",
       "      <td>1</td>\n",
       "      <td>Male</td>\n",
       "      <td>19</td>\n",
       "      <td>15</td>\n",
       "      <td>39</td>\n",
       "    </tr>\n",
       "    <tr>\n",
       "      <th>1</th>\n",
       "      <td>2</td>\n",
       "      <td>Male</td>\n",
       "      <td>21</td>\n",
       "      <td>15</td>\n",
       "      <td>81</td>\n",
       "    </tr>\n",
       "    <tr>\n",
       "      <th>2</th>\n",
       "      <td>3</td>\n",
       "      <td>Female</td>\n",
       "      <td>20</td>\n",
       "      <td>16</td>\n",
       "      <td>6</td>\n",
       "    </tr>\n",
       "    <tr>\n",
       "      <th>3</th>\n",
       "      <td>4</td>\n",
       "      <td>Female</td>\n",
       "      <td>23</td>\n",
       "      <td>16</td>\n",
       "      <td>77</td>\n",
       "    </tr>\n",
       "    <tr>\n",
       "      <th>4</th>\n",
       "      <td>5</td>\n",
       "      <td>Female</td>\n",
       "      <td>31</td>\n",
       "      <td>17</td>\n",
       "      <td>40</td>\n",
       "    </tr>\n",
       "  </tbody>\n",
       "</table>\n",
       "</div>"
      ],
      "text/plain": [
       "   CustomerID   Genre  Age  Annual Income (k$)  Spending Score (1-100)\n",
       "0           1    Male   19                  15                      39\n",
       "1           2    Male   21                  15                      81\n",
       "2           3  Female   20                  16                       6\n",
       "3           4  Female   23                  16                      77\n",
       "4           5  Female   31                  17                      40"
      ]
     },
     "execution_count": 4,
     "metadata": {},
     "output_type": "execute_result"
    }
   ],
   "source": [
    "df1 = pd.read_csv(r\"Mall_Customers.csv\")\n",
    "df1.head(5)"
   ]
  },
  {
   "cell_type": "markdown",
   "id": "39b79fbb",
   "metadata": {},
   "source": [
    "### Show the dataset shape (rows, columns) and column names with dtypes"
   ]
  },
  {
   "cell_type": "code",
   "execution_count": 5,
   "id": "882f6c8e",
   "metadata": {},
   "outputs": [
    {
     "data": {
      "text/plain": [
       "(541909, 8)"
      ]
     },
     "execution_count": 5,
     "metadata": {},
     "output_type": "execute_result"
    }
   ],
   "source": [
    "# Data shapes\n",
    "df.shape"
   ]
  },
  {
   "cell_type": "code",
   "execution_count": 6,
   "id": "641e8143",
   "metadata": {},
   "outputs": [
    {
     "data": {
      "text/plain": [
       "(200, 5)"
      ]
     },
     "execution_count": 6,
     "metadata": {},
     "output_type": "execute_result"
    }
   ],
   "source": [
    "df1.shape"
   ]
  },
  {
   "cell_type": "code",
   "execution_count": 7,
   "id": "44925e4a",
   "metadata": {},
   "outputs": [
    {
     "name": "stdout",
     "output_type": "stream",
     "text": [
      "<class 'pandas.core.frame.DataFrame'>\n",
      "RangeIndex: 541909 entries, 0 to 541908\n",
      "Data columns (total 8 columns):\n",
      " #   Column       Non-Null Count   Dtype         \n",
      "---  ------       --------------   -----         \n",
      " 0   InvoiceNo    541909 non-null  object        \n",
      " 1   StockCode    541909 non-null  object        \n",
      " 2   Description  540455 non-null  object        \n",
      " 3   Quantity     541909 non-null  int64         \n",
      " 4   InvoiceDate  541909 non-null  datetime64[ns]\n",
      " 5   UnitPrice    541909 non-null  float64       \n",
      " 6   CustomerID   406829 non-null  float64       \n",
      " 7   Country      541909 non-null  object        \n",
      "dtypes: datetime64[ns](1), float64(2), int64(1), object(4)\n",
      "memory usage: 33.1+ MB\n"
     ]
    }
   ],
   "source": [
    "df.info()"
   ]
  },
  {
   "cell_type": "code",
   "execution_count": 8,
   "id": "a69996dd",
   "metadata": {},
   "outputs": [
    {
     "name": "stdout",
     "output_type": "stream",
     "text": [
      "<class 'pandas.core.frame.DataFrame'>\n",
      "RangeIndex: 200 entries, 0 to 199\n",
      "Data columns (total 5 columns):\n",
      " #   Column                  Non-Null Count  Dtype \n",
      "---  ------                  --------------  ----- \n",
      " 0   CustomerID              200 non-null    int64 \n",
      " 1   Genre                   200 non-null    object\n",
      " 2   Age                     200 non-null    int64 \n",
      " 3   Annual Income (k$)      200 non-null    int64 \n",
      " 4   Spending Score (1-100)  200 non-null    int64 \n",
      "dtypes: int64(4), object(1)\n",
      "memory usage: 7.9+ KB\n"
     ]
    }
   ],
   "source": [
    "df1.info()"
   ]
  },
  {
   "cell_type": "markdown",
   "id": "7ba42766",
   "metadata": {},
   "source": [
    "### Count unique values per column and list the top 10 most frequent values in a categorical field."
   ]
  },
  {
   "cell_type": "code",
   "execution_count": 9,
   "id": "bb26f7f0",
   "metadata": {},
   "outputs": [
    {
     "name": "stdout",
     "output_type": "stream",
     "text": [
      "InvoiceNo      25900\n",
      "StockCode       4070\n",
      "Description     4223\n",
      "Quantity         722\n",
      "InvoiceDate    23260\n",
      "UnitPrice       1630\n",
      "CustomerID      4372\n",
      "Country           38\n",
      "dtype: int64\n"
     ]
    }
   ],
   "source": [
    "unique_count = df.nunique()\n",
    "print(unique_count)"
   ]
  },
  {
   "cell_type": "code",
   "execution_count": 10,
   "id": "4e69d73d",
   "metadata": {},
   "outputs": [
    {
     "name": "stdout",
     "output_type": "stream",
     "text": [
      "CustomerID                200\n",
      "Genre                       2\n",
      "Age                        51\n",
      "Annual Income (k$)         64\n",
      "Spending Score (1-100)     84\n",
      "dtype: int64\n"
     ]
    }
   ],
   "source": [
    "unique_count1 = df1.nunique()\n",
    "print(unique_count1)"
   ]
  },
  {
   "cell_type": "code",
   "execution_count": 11,
   "id": "c79e801f",
   "metadata": {},
   "outputs": [
    {
     "name": "stdout",
     "output_type": "stream",
     "text": [
      "                 count\n",
      "Country               \n",
      "United Kingdom  495478\n",
      "Germany           9495\n",
      "France            8557\n",
      "EIRE              8196\n",
      "Spain             2533\n",
      "Netherlands       2371\n",
      "Belgium           2069\n",
      "Switzerland       2002\n",
      "Portugal          1519\n",
      "Australia         1259\n"
     ]
    }
   ],
   "source": [
    "# Top 10 most frequent values in categorical field\n",
    "top10 = pd.DataFrame(df['Country'].value_counts().head(10))\n",
    "print(top10)"
   ]
  },
  {
   "cell_type": "code",
   "execution_count": 12,
   "id": "28dfdca9",
   "metadata": {},
   "outputs": [
    {
     "name": "stdout",
     "output_type": "stream",
     "text": [
      "        count\n",
      "Genre        \n",
      "Female    112\n",
      "Male       88\n"
     ]
    }
   ],
   "source": [
    "top_10 = pd.DataFrame(df1['Genre'].value_counts().head(10))\n",
    "print(top_10)"
   ]
  },
  {
   "cell_type": "markdown",
   "id": "0174d7e4",
   "metadata": {},
   "source": [
    "### Find missing values per column and report counts"
   ]
  },
  {
   "cell_type": "code",
   "execution_count": 13,
   "id": "c18a588e",
   "metadata": {},
   "outputs": [
    {
     "name": "stdout",
     "output_type": "stream",
     "text": [
      "InvoiceNo           0\n",
      "StockCode           0\n",
      "Description      1454\n",
      "Quantity            0\n",
      "InvoiceDate         0\n",
      "UnitPrice           0\n",
      "CustomerID     135080\n",
      "Country             0\n",
      "dtype: int64\n"
     ]
    }
   ],
   "source": [
    "missing_count = df.isnull().sum()\n",
    "print(missing_count)"
   ]
  },
  {
   "cell_type": "markdown",
   "id": "c77e7183",
   "metadata": {},
   "source": [
    "The columns Description and CustomerID has missing values"
   ]
  },
  {
   "cell_type": "code",
   "execution_count": 14,
   "id": "76ad7061",
   "metadata": {},
   "outputs": [
    {
     "name": "stdout",
     "output_type": "stream",
     "text": [
      "CustomerID                0\n",
      "Genre                     0\n",
      "Age                       0\n",
      "Annual Income (k$)        0\n",
      "Spending Score (1-100)    0\n",
      "dtype: int64\n"
     ]
    }
   ],
   "source": [
    "missing__count = df1.isnull().sum()\n",
    "print(missing__count)"
   ]
  },
  {
   "cell_type": "markdown",
   "id": "8bc5db39",
   "metadata": {},
   "source": [
    "### Show summary statistics for numeric columns: mean, median, std, min, max, quartiles."
   ]
  },
  {
   "cell_type": "code",
   "execution_count": 15,
   "id": "122defd5",
   "metadata": {},
   "outputs": [
    {
     "data": {
      "text/html": [
       "<div>\n",
       "<style scoped>\n",
       "    .dataframe tbody tr th:only-of-type {\n",
       "        vertical-align: middle;\n",
       "    }\n",
       "\n",
       "    .dataframe tbody tr th {\n",
       "        vertical-align: top;\n",
       "    }\n",
       "\n",
       "    .dataframe thead th {\n",
       "        text-align: right;\n",
       "    }\n",
       "</style>\n",
       "<table border=\"1\" class=\"dataframe\">\n",
       "  <thead>\n",
       "    <tr style=\"text-align: right;\">\n",
       "      <th></th>\n",
       "      <th>count</th>\n",
       "      <th>mean</th>\n",
       "      <th>std</th>\n",
       "      <th>min</th>\n",
       "      <th>25%</th>\n",
       "      <th>50%</th>\n",
       "      <th>75%</th>\n",
       "      <th>max</th>\n",
       "    </tr>\n",
       "  </thead>\n",
       "  <tbody>\n",
       "    <tr>\n",
       "      <th>Quantity</th>\n",
       "      <td>541909.0</td>\n",
       "      <td>9.552250</td>\n",
       "      <td>218.081158</td>\n",
       "      <td>-80995.00</td>\n",
       "      <td>1.00</td>\n",
       "      <td>3.00</td>\n",
       "      <td>10.00</td>\n",
       "      <td>80995.0</td>\n",
       "    </tr>\n",
       "    <tr>\n",
       "      <th>UnitPrice</th>\n",
       "      <td>541909.0</td>\n",
       "      <td>4.611114</td>\n",
       "      <td>96.759853</td>\n",
       "      <td>-11062.06</td>\n",
       "      <td>1.25</td>\n",
       "      <td>2.08</td>\n",
       "      <td>4.13</td>\n",
       "      <td>38970.0</td>\n",
       "    </tr>\n",
       "    <tr>\n",
       "      <th>CustomerID</th>\n",
       "      <td>406829.0</td>\n",
       "      <td>15287.690570</td>\n",
       "      <td>1713.600303</td>\n",
       "      <td>12346.00</td>\n",
       "      <td>13953.00</td>\n",
       "      <td>15152.00</td>\n",
       "      <td>16791.00</td>\n",
       "      <td>18287.0</td>\n",
       "    </tr>\n",
       "  </tbody>\n",
       "</table>\n",
       "</div>"
      ],
      "text/plain": [
       "               count          mean          std       min       25%       50%  \\\n",
       "Quantity    541909.0      9.552250   218.081158 -80995.00      1.00      3.00   \n",
       "UnitPrice   541909.0      4.611114    96.759853 -11062.06      1.25      2.08   \n",
       "CustomerID  406829.0  15287.690570  1713.600303  12346.00  13953.00  15152.00   \n",
       "\n",
       "                 75%      max  \n",
       "Quantity       10.00  80995.0  \n",
       "UnitPrice       4.13  38970.0  \n",
       "CustomerID  16791.00  18287.0  "
      ]
     },
     "execution_count": 15,
     "metadata": {},
     "output_type": "execute_result"
    }
   ],
   "source": [
    "df.select_dtypes(include=['int64', 'float64']).describe().T"
   ]
  },
  {
   "cell_type": "code",
   "execution_count": 16,
   "id": "e209f934",
   "metadata": {},
   "outputs": [
    {
     "data": {
      "text/html": [
       "<div>\n",
       "<style scoped>\n",
       "    .dataframe tbody tr th:only-of-type {\n",
       "        vertical-align: middle;\n",
       "    }\n",
       "\n",
       "    .dataframe tbody tr th {\n",
       "        vertical-align: top;\n",
       "    }\n",
       "\n",
       "    .dataframe thead th {\n",
       "        text-align: right;\n",
       "    }\n",
       "</style>\n",
       "<table border=\"1\" class=\"dataframe\">\n",
       "  <thead>\n",
       "    <tr style=\"text-align: right;\">\n",
       "      <th></th>\n",
       "      <th>count</th>\n",
       "      <th>mean</th>\n",
       "      <th>std</th>\n",
       "      <th>min</th>\n",
       "      <th>25%</th>\n",
       "      <th>50%</th>\n",
       "      <th>75%</th>\n",
       "      <th>max</th>\n",
       "    </tr>\n",
       "  </thead>\n",
       "  <tbody>\n",
       "    <tr>\n",
       "      <th>CustomerID</th>\n",
       "      <td>200.0</td>\n",
       "      <td>100.50</td>\n",
       "      <td>57.879185</td>\n",
       "      <td>1.0</td>\n",
       "      <td>50.75</td>\n",
       "      <td>100.5</td>\n",
       "      <td>150.25</td>\n",
       "      <td>200.0</td>\n",
       "    </tr>\n",
       "    <tr>\n",
       "      <th>Age</th>\n",
       "      <td>200.0</td>\n",
       "      <td>38.85</td>\n",
       "      <td>13.969007</td>\n",
       "      <td>18.0</td>\n",
       "      <td>28.75</td>\n",
       "      <td>36.0</td>\n",
       "      <td>49.00</td>\n",
       "      <td>70.0</td>\n",
       "    </tr>\n",
       "    <tr>\n",
       "      <th>Annual Income (k$)</th>\n",
       "      <td>200.0</td>\n",
       "      <td>60.56</td>\n",
       "      <td>26.264721</td>\n",
       "      <td>15.0</td>\n",
       "      <td>41.50</td>\n",
       "      <td>61.5</td>\n",
       "      <td>78.00</td>\n",
       "      <td>137.0</td>\n",
       "    </tr>\n",
       "    <tr>\n",
       "      <th>Spending Score (1-100)</th>\n",
       "      <td>200.0</td>\n",
       "      <td>50.20</td>\n",
       "      <td>25.823522</td>\n",
       "      <td>1.0</td>\n",
       "      <td>34.75</td>\n",
       "      <td>50.0</td>\n",
       "      <td>73.00</td>\n",
       "      <td>99.0</td>\n",
       "    </tr>\n",
       "  </tbody>\n",
       "</table>\n",
       "</div>"
      ],
      "text/plain": [
       "                        count    mean        std   min    25%    50%     75%  \\\n",
       "CustomerID              200.0  100.50  57.879185   1.0  50.75  100.5  150.25   \n",
       "Age                     200.0   38.85  13.969007  18.0  28.75   36.0   49.00   \n",
       "Annual Income (k$)      200.0   60.56  26.264721  15.0  41.50   61.5   78.00   \n",
       "Spending Score (1-100)  200.0   50.20  25.823522   1.0  34.75   50.0   73.00   \n",
       "\n",
       "                          max  \n",
       "CustomerID              200.0  \n",
       "Age                      70.0  \n",
       "Annual Income (k$)      137.0  \n",
       "Spending Score (1-100)   99.0  "
      ]
     },
     "execution_count": 16,
     "metadata": {},
     "output_type": "execute_result"
    }
   ],
   "source": [
    "df1.select_dtypes(include=['number']).describe().T"
   ]
  },
  {
   "cell_type": "markdown",
   "id": "48cd3234",
   "metadata": {},
   "source": [
    "### Convert a numeric column (e.g., Age) into bins (e.g., Young, Adult, Senior). Show counts by group."
   ]
  },
  {
   "cell_type": "code",
   "execution_count": 17,
   "id": "4fb75ed0",
   "metadata": {},
   "outputs": [
    {
     "data": {
      "text/html": [
       "<div>\n",
       "<style scoped>\n",
       "    .dataframe tbody tr th:only-of-type {\n",
       "        vertical-align: middle;\n",
       "    }\n",
       "\n",
       "    .dataframe tbody tr th {\n",
       "        vertical-align: top;\n",
       "    }\n",
       "\n",
       "    .dataframe thead th {\n",
       "        text-align: right;\n",
       "    }\n",
       "</style>\n",
       "<table border=\"1\" class=\"dataframe\">\n",
       "  <thead>\n",
       "    <tr style=\"text-align: right;\">\n",
       "      <th></th>\n",
       "      <th>CustomerID</th>\n",
       "      <th>Genre</th>\n",
       "      <th>Age</th>\n",
       "      <th>Annual Income (k$)</th>\n",
       "      <th>Spending Score (1-100)</th>\n",
       "      <th>AgeGroup</th>\n",
       "    </tr>\n",
       "  </thead>\n",
       "  <tbody>\n",
       "    <tr>\n",
       "      <th>0</th>\n",
       "      <td>1</td>\n",
       "      <td>Male</td>\n",
       "      <td>19</td>\n",
       "      <td>15</td>\n",
       "      <td>39</td>\n",
       "      <td>Young</td>\n",
       "    </tr>\n",
       "    <tr>\n",
       "      <th>1</th>\n",
       "      <td>2</td>\n",
       "      <td>Male</td>\n",
       "      <td>21</td>\n",
       "      <td>15</td>\n",
       "      <td>81</td>\n",
       "      <td>Young</td>\n",
       "    </tr>\n",
       "    <tr>\n",
       "      <th>2</th>\n",
       "      <td>3</td>\n",
       "      <td>Female</td>\n",
       "      <td>20</td>\n",
       "      <td>16</td>\n",
       "      <td>6</td>\n",
       "      <td>Young</td>\n",
       "    </tr>\n",
       "    <tr>\n",
       "      <th>3</th>\n",
       "      <td>4</td>\n",
       "      <td>Female</td>\n",
       "      <td>23</td>\n",
       "      <td>16</td>\n",
       "      <td>77</td>\n",
       "      <td>Young</td>\n",
       "    </tr>\n",
       "    <tr>\n",
       "      <th>4</th>\n",
       "      <td>5</td>\n",
       "      <td>Female</td>\n",
       "      <td>31</td>\n",
       "      <td>17</td>\n",
       "      <td>40</td>\n",
       "      <td>Young</td>\n",
       "    </tr>\n",
       "  </tbody>\n",
       "</table>\n",
       "</div>"
      ],
      "text/plain": [
       "   CustomerID   Genre  Age  Annual Income (k$)  Spending Score (1-100)  \\\n",
       "0           1    Male   19                  15                      39   \n",
       "1           2    Male   21                  15                      81   \n",
       "2           3  Female   20                  16                       6   \n",
       "3           4  Female   23                  16                      77   \n",
       "4           5  Female   31                  17                      40   \n",
       "\n",
       "  AgeGroup  \n",
       "0    Young  \n",
       "1    Young  \n",
       "2    Young  \n",
       "3    Young  \n",
       "4    Young  "
      ]
     },
     "execution_count": 17,
     "metadata": {},
     "output_type": "execute_result"
    }
   ],
   "source": [
    "# define labels and bins\n",
    "bins = [18, 40, 60, 100]\n",
    "labels = ['Young', 'Adult', 'Senior']\n",
    "df1['AgeGroup'] = pd.cut(df1['Age'], bins=bins, labels=labels, right=False)\n",
    "df1.head(5)"
   ]
  },
  {
   "cell_type": "code",
   "execution_count": 52,
   "id": "e5a2582c",
   "metadata": {},
   "outputs": [
    {
     "name": "stdout",
     "output_type": "stream",
     "text": [
      "0       Young\n",
      "123     Young\n",
      "124     Young\n",
      "125     Young\n",
      "129     Young\n",
      "        ...  \n",
      "109    Senior\n",
      "116    Senior\n",
      "57     Senior\n",
      "10     Senior\n",
      "73     Senior\n",
      "Name: AgeGroup, Length: 200, dtype: category\n",
      "Categories (3, object): ['Young' < 'Adult' < 'Senior']\n"
     ]
    }
   ],
   "source": [
    "age_group_counts = df1['AgeGroup'].sort_values()\n",
    "print(age_group_counts)"
   ]
  },
  {
   "cell_type": "code",
   "execution_count": 19,
   "id": "25a33905",
   "metadata": {},
   "outputs": [
    {
     "name": "stdout",
     "output_type": "stream",
     "text": [
      "                Age\n",
      "AgeGroup           \n",
      "Young     28.801724\n",
      "Adult     48.687500\n",
      "Senior    65.650000\n"
     ]
    },
    {
     "name": "stderr",
     "output_type": "stream",
     "text": [
      "C:\\Users\\USER\\AppData\\Local\\Temp\\ipykernel_6664\\1895048741.py:1: FutureWarning: The default of observed=False is deprecated and will be changed to True in a future version of pandas. Pass observed=False to retain current behavior or observed=True to adopt the future default and silence this warning.\n",
      "  age_group = pd.DataFrame(df1.groupby('AgeGroup')['Age'].mean())\n"
     ]
    }
   ],
   "source": [
    "age_group = pd.DataFrame(df1.groupby('AgeGroup')['Age'].mean())\n",
    "print(age_group)"
   ]
  },
  {
   "cell_type": "markdown",
   "id": "c372585e",
   "metadata": {},
   "source": [
    "### Detect and count any unrealistic values (e.g., negative or zero values)."
   ]
  },
  {
   "cell_type": "code",
   "execution_count": 20,
   "id": "2cee0009",
   "metadata": {},
   "outputs": [
    {
     "name": "stdout",
     "output_type": "stream",
     "text": [
      "Quantity      10624\n",
      "UnitPrice      2517\n",
      "CustomerID        0\n",
      "dtype: int64\n"
     ]
    }
   ],
   "source": [
    "# Detect unrealistic values in the dataset\n",
    "unrealistic_values = (df.select_dtypes(include=['number'])<=0).sum()\n",
    "print(unrealistic_values)"
   ]
  },
  {
   "cell_type": "code",
   "execution_count": 21,
   "id": "0c0ff62c",
   "metadata": {},
   "outputs": [
    {
     "data": {
      "text/plain": [
       "CustomerID                0\n",
       "Age                       0\n",
       "Annual Income (k$)        0\n",
       "Spending Score (1-100)    0\n",
       "dtype: int64"
      ]
     },
     "execution_count": 21,
     "metadata": {},
     "output_type": "execute_result"
    }
   ],
   "source": [
    "(df1.select_dtypes(include=['number'])<=0).sum()"
   ]
  },
  {
   "cell_type": "markdown",
   "id": "b158def8",
   "metadata": {},
   "source": [
    "### Find how many unique customers exist and which group/category is most common."
   ]
  },
  {
   "cell_type": "code",
   "execution_count": 22,
   "id": "3736c2a5",
   "metadata": {},
   "outputs": [
    {
     "name": "stdout",
     "output_type": "stream",
     "text": [
      "4372\n"
     ]
    }
   ],
   "source": [
    "unique_customers = df['CustomerID'].nunique()\n",
    "print(unique_customers)"
   ]
  },
  {
   "cell_type": "code",
   "execution_count": 23,
   "id": "74399e24",
   "metadata": {},
   "outputs": [
    {
     "name": "stdout",
     "output_type": "stream",
     "text": [
      "200\n"
     ]
    }
   ],
   "source": [
    "unique_custom = df1['CustomerID'].nunique()\n",
    "print(unique_custom)"
   ]
  },
  {
   "cell_type": "code",
   "execution_count": 24,
   "id": "58bb7655",
   "metadata": {},
   "outputs": [
    {
     "name": "stdout",
     "output_type": "stream",
     "text": [
      "United Kingdom\n"
     ]
    }
   ],
   "source": [
    "common_customers = df['Country'].value_counts().idxmax()\n",
    "print(common_customers)"
   ]
  },
  {
   "cell_type": "code",
   "execution_count": 25,
   "id": "b6056a04",
   "metadata": {},
   "outputs": [
    {
     "name": "stdout",
     "output_type": "stream",
     "text": [
      "495478\n"
     ]
    }
   ],
   "source": [
    "common_count = df['Country'].value_counts().max()\n",
    "print(common_count)"
   ]
  },
  {
   "cell_type": "code",
   "execution_count": 26,
   "id": "652e4462",
   "metadata": {},
   "outputs": [
    {
     "name": "stdout",
     "output_type": "stream",
     "text": [
      "Female\n"
     ]
    }
   ],
   "source": [
    "common_customers = df1['Genre'].value_counts().idxmax()\n",
    "print(common_customers)"
   ]
  },
  {
   "cell_type": "code",
   "execution_count": 27,
   "id": "08d6b7c5",
   "metadata": {},
   "outputs": [
    {
     "name": "stdout",
     "output_type": "stream",
     "text": [
      "112\n"
     ]
    }
   ],
   "source": [
    "common_count = df1['Genre'].value_counts().max()\n",
    "print(common_count)"
   ]
  },
  {
   "cell_type": "code",
   "execution_count": 28,
   "id": "e1ba5235",
   "metadata": {},
   "outputs": [
    {
     "name": "stdout",
     "output_type": "stream",
     "text": [
      "Young\n"
     ]
    }
   ],
   "source": [
    "common_customers=df1['AgeGroup'].value_counts().idxmax()\n",
    "print(common_customers)"
   ]
  },
  {
   "cell_type": "code",
   "execution_count": 29,
   "id": "ceceafde",
   "metadata": {},
   "outputs": [
    {
     "name": "stdout",
     "output_type": "stream",
     "text": [
      "116\n"
     ]
    }
   ],
   "source": [
    "common_count = df1['AgeGroup'].value_counts().max()\n",
    "print(common_count)"
   ]
  },
  {
   "cell_type": "markdown",
   "id": "436dd2d6",
   "metadata": {},
   "source": [
    "## Data Cleaning and Filtering"
   ]
  },
  {
   "cell_type": "markdown",
   "id": "b3100589",
   "metadata": {},
   "source": [
    "### Remove rows with missing values in key columns"
   ]
  },
  {
   "cell_type": "code",
   "execution_count": 30,
   "id": "bbde9c8d",
   "metadata": {},
   "outputs": [
    {
     "name": "stdout",
     "output_type": "stream",
     "text": [
      "Shape of the data before dropping missing values: (541909, 8)\n"
     ]
    }
   ],
   "source": [
    "# Drop rows with missing values in the online retail data\n",
    "print(f\"Shape of the data before dropping missing values: {df.shape}\")"
   ]
  },
  {
   "cell_type": "code",
   "execution_count": 31,
   "id": "0576d339",
   "metadata": {},
   "outputs": [],
   "source": [
    "df = df.dropna()"
   ]
  },
  {
   "cell_type": "code",
   "execution_count": 32,
   "id": "301048bf",
   "metadata": {},
   "outputs": [
    {
     "data": {
      "text/plain": [
       "(406829, 8)"
      ]
     },
     "execution_count": 32,
     "metadata": {},
     "output_type": "execute_result"
    }
   ],
   "source": [
    "df.shape"
   ]
  },
  {
   "cell_type": "markdown",
   "id": "14bdbf2d",
   "metadata": {},
   "source": [
    "### Pros of Dropping Rows with Missing Values\n",
    "\n",
    "- Simplifies analysis – you avoid dealing with imputation or bias introduced by filling missing values.\n",
    "\n",
    "- Keeps data “real” – ensures only complete and accurate records are used, which may improve model reliability.\n",
    "\n",
    "### Cons of Dropping Rows with Missing Values\n",
    "\n",
    "- Data loss – you may lose a significant portion of your dataset, reducing sample size and statistical power.\n",
    "\n",
    "- Bias risk – if missing values are not random (e.g., certain groups are more affected), dropping rows can distort the dataset."
   ]
  },
  {
   "cell_type": "markdown",
   "id": "b68c172a",
   "metadata": {},
   "source": [
    "### Drop Duplicate rows and report how many were dropped"
   ]
  },
  {
   "cell_type": "code",
   "execution_count": 33,
   "id": "3c2ffcb4",
   "metadata": {},
   "outputs": [
    {
     "data": {
      "text/plain": [
       "np.int64(5225)"
      ]
     },
     "execution_count": 33,
     "metadata": {},
     "output_type": "execute_result"
    }
   ],
   "source": [
    "df.duplicated().sum()"
   ]
  },
  {
   "cell_type": "code",
   "execution_count": 34,
   "id": "90b639dc",
   "metadata": {},
   "outputs": [],
   "source": [
    "# Drop duplicates\n",
    "df = df.drop_duplicates()"
   ]
  },
  {
   "cell_type": "markdown",
   "id": "db55f165",
   "metadata": {},
   "source": [
    "5225 rows were dropped as a result of them being duplicates"
   ]
  },
  {
   "cell_type": "code",
   "execution_count": 35,
   "id": "2f58cd9c",
   "metadata": {},
   "outputs": [
    {
     "data": {
      "text/plain": [
       "np.int64(0)"
      ]
     },
     "execution_count": 35,
     "metadata": {},
     "output_type": "execute_result"
    }
   ],
   "source": [
    "df1.duplicated().sum()"
   ]
  },
  {
   "cell_type": "markdown",
   "id": "491030ed",
   "metadata": {},
   "source": [
    "### Filter out records where age<18"
   ]
  },
  {
   "cell_type": "code",
   "execution_count": 36,
   "id": "762382a5",
   "metadata": {},
   "outputs": [
    {
     "data": {
      "text/plain": [
       "(200, 6)"
      ]
     },
     "execution_count": 36,
     "metadata": {},
     "output_type": "execute_result"
    }
   ],
   "source": [
    "df1 = df1[df1['Age'] >= 18]\n",
    "df1.shape"
   ]
  },
  {
   "cell_type": "markdown",
   "id": "31504277",
   "metadata": {},
   "source": [
    "### Create a new categorical column from numeric data using conditional statements"
   ]
  },
  {
   "cell_type": "code",
   "execution_count": 37,
   "id": "6480a48a",
   "metadata": {},
   "outputs": [
    {
     "data": {
      "text/html": [
       "<div>\n",
       "<style scoped>\n",
       "    .dataframe tbody tr th:only-of-type {\n",
       "        vertical-align: middle;\n",
       "    }\n",
       "\n",
       "    .dataframe tbody tr th {\n",
       "        vertical-align: top;\n",
       "    }\n",
       "\n",
       "    .dataframe thead th {\n",
       "        text-align: right;\n",
       "    }\n",
       "</style>\n",
       "<table border=\"1\" class=\"dataframe\">\n",
       "  <thead>\n",
       "    <tr style=\"text-align: right;\">\n",
       "      <th></th>\n",
       "      <th>CustomerID</th>\n",
       "      <th>Genre</th>\n",
       "      <th>Age</th>\n",
       "      <th>Annual Income (k$)</th>\n",
       "      <th>Spending Score (1-100)</th>\n",
       "      <th>AgeGroup</th>\n",
       "      <th>Group</th>\n",
       "    </tr>\n",
       "  </thead>\n",
       "  <tbody>\n",
       "    <tr>\n",
       "      <th>0</th>\n",
       "      <td>1</td>\n",
       "      <td>Male</td>\n",
       "      <td>19</td>\n",
       "      <td>15</td>\n",
       "      <td>39</td>\n",
       "      <td>Young</td>\n",
       "      <td>Adult</td>\n",
       "    </tr>\n",
       "    <tr>\n",
       "      <th>1</th>\n",
       "      <td>2</td>\n",
       "      <td>Male</td>\n",
       "      <td>21</td>\n",
       "      <td>15</td>\n",
       "      <td>81</td>\n",
       "      <td>Young</td>\n",
       "      <td>Adult</td>\n",
       "    </tr>\n",
       "    <tr>\n",
       "      <th>2</th>\n",
       "      <td>3</td>\n",
       "      <td>Female</td>\n",
       "      <td>20</td>\n",
       "      <td>16</td>\n",
       "      <td>6</td>\n",
       "      <td>Young</td>\n",
       "      <td>Adult</td>\n",
       "    </tr>\n",
       "    <tr>\n",
       "      <th>3</th>\n",
       "      <td>4</td>\n",
       "      <td>Female</td>\n",
       "      <td>23</td>\n",
       "      <td>16</td>\n",
       "      <td>77</td>\n",
       "      <td>Young</td>\n",
       "      <td>Adult</td>\n",
       "    </tr>\n",
       "    <tr>\n",
       "      <th>4</th>\n",
       "      <td>5</td>\n",
       "      <td>Female</td>\n",
       "      <td>31</td>\n",
       "      <td>17</td>\n",
       "      <td>40</td>\n",
       "      <td>Young</td>\n",
       "      <td>Adult</td>\n",
       "    </tr>\n",
       "  </tbody>\n",
       "</table>\n",
       "</div>"
      ],
      "text/plain": [
       "   CustomerID   Genre  Age  Annual Income (k$)  Spending Score (1-100)  \\\n",
       "0           1    Male   19                  15                      39   \n",
       "1           2    Male   21                  15                      81   \n",
       "2           3  Female   20                  16                       6   \n",
       "3           4  Female   23                  16                      77   \n",
       "4           5  Female   31                  17                      40   \n",
       "\n",
       "  AgeGroup  Group  \n",
       "0    Young  Adult  \n",
       "1    Young  Adult  \n",
       "2    Young  Adult  \n",
       "3    Young  Adult  \n",
       "4    Young  Adult  "
      ]
     },
     "execution_count": 37,
     "metadata": {},
     "output_type": "execute_result"
    }
   ],
   "source": [
    "def group_customer(age):\n",
    "    if age < 18:\n",
    "        return 'Young'\n",
    "    elif 18 <= age < 40:\n",
    "        return 'Adult'\n",
    "    elif 40 <= age < 75:\n",
    "        return 'Senior'\n",
    "    else:\n",
    "        return 'Old'\n",
    "df1['Group'] = df1['Age'].apply(group_customer)\n",
    "df1.head(5)"
   ]
  },
  {
   "cell_type": "markdown",
   "id": "89bdae77",
   "metadata": {},
   "source": [
    "### Replace missing values in a numeric column with the mean.\n"
   ]
  },
  {
   "cell_type": "code",
   "execution_count": 38,
   "id": "7990f89f",
   "metadata": {},
   "outputs": [
    {
     "name": "stdout",
     "output_type": "stream",
     "text": [
      "5.0\n"
     ]
    }
   ],
   "source": [
    "# An example code\n",
    "median_value = df['Quantity'].median()\n",
    "print(median_value)"
   ]
  },
  {
   "cell_type": "code",
   "execution_count": 39,
   "id": "fba95b97",
   "metadata": {},
   "outputs": [
    {
     "name": "stderr",
     "output_type": "stream",
     "text": [
      "C:\\Users\\USER\\AppData\\Local\\Temp\\ipykernel_6664\\2795125939.py:1: FutureWarning: A value is trying to be set on a copy of a DataFrame or Series through chained assignment using an inplace method.\n",
      "The behavior will change in pandas 3.0. This inplace method will never work because the intermediate object on which we are setting values always behaves as a copy.\n",
      "\n",
      "For example, when doing 'df[col].method(value, inplace=True)', try using 'df.method({col: value}, inplace=True)' or df[col] = df[col].method(value) instead, to perform the operation inplace on the original object.\n",
      "\n",
      "\n",
      "  df = df['Quantity'].fillna(median_value, inplace=True)\n"
     ]
    }
   ],
   "source": [
    "df = df['Quantity'].fillna(median_value, inplace=True)"
   ]
  },
  {
   "cell_type": "markdown",
   "id": "597fd430",
   "metadata": {},
   "source": [
    "### Bucket customers into categories based on quantiles (e.g., spending level)"
   ]
  },
  {
   "cell_type": "code",
   "execution_count": 40,
   "id": "11f54067",
   "metadata": {},
   "outputs": [
    {
     "data": {
      "text/plain": [
       "count    200.000000\n",
       "mean      50.200000\n",
       "std       25.823522\n",
       "min        1.000000\n",
       "25%       34.750000\n",
       "50%       50.000000\n",
       "75%       73.000000\n",
       "max       99.000000\n",
       "Name: Spending Score (1-100), dtype: float64"
      ]
     },
     "execution_count": 40,
     "metadata": {},
     "output_type": "execute_result"
    }
   ],
   "source": [
    "df1['Spending Score (1-100)'].describe()"
   ]
  },
  {
   "cell_type": "code",
   "execution_count": 41,
   "id": "fb2b77ba",
   "metadata": {},
   "outputs": [
    {
     "data": {
      "text/html": [
       "<div>\n",
       "<style scoped>\n",
       "    .dataframe tbody tr th:only-of-type {\n",
       "        vertical-align: middle;\n",
       "    }\n",
       "\n",
       "    .dataframe tbody tr th {\n",
       "        vertical-align: top;\n",
       "    }\n",
       "\n",
       "    .dataframe thead th {\n",
       "        text-align: right;\n",
       "    }\n",
       "</style>\n",
       "<table border=\"1\" class=\"dataframe\">\n",
       "  <thead>\n",
       "    <tr style=\"text-align: right;\">\n",
       "      <th></th>\n",
       "      <th>CustomerID</th>\n",
       "      <th>Genre</th>\n",
       "      <th>Age</th>\n",
       "      <th>Annual Income (k$)</th>\n",
       "      <th>Spending Score (1-100)</th>\n",
       "      <th>AgeGroup</th>\n",
       "      <th>Group</th>\n",
       "      <th>Group_Spending_Score</th>\n",
       "    </tr>\n",
       "  </thead>\n",
       "  <tbody>\n",
       "    <tr>\n",
       "      <th>0</th>\n",
       "      <td>1</td>\n",
       "      <td>Male</td>\n",
       "      <td>19</td>\n",
       "      <td>15</td>\n",
       "      <td>39</td>\n",
       "      <td>Young</td>\n",
       "      <td>Adult</td>\n",
       "      <td>Moderate</td>\n",
       "    </tr>\n",
       "    <tr>\n",
       "      <th>1</th>\n",
       "      <td>2</td>\n",
       "      <td>Male</td>\n",
       "      <td>21</td>\n",
       "      <td>15</td>\n",
       "      <td>81</td>\n",
       "      <td>Young</td>\n",
       "      <td>Adult</td>\n",
       "      <td>High</td>\n",
       "    </tr>\n",
       "    <tr>\n",
       "      <th>2</th>\n",
       "      <td>3</td>\n",
       "      <td>Female</td>\n",
       "      <td>20</td>\n",
       "      <td>16</td>\n",
       "      <td>6</td>\n",
       "      <td>Young</td>\n",
       "      <td>Adult</td>\n",
       "      <td>Low</td>\n",
       "    </tr>\n",
       "    <tr>\n",
       "      <th>3</th>\n",
       "      <td>4</td>\n",
       "      <td>Female</td>\n",
       "      <td>23</td>\n",
       "      <td>16</td>\n",
       "      <td>77</td>\n",
       "      <td>Young</td>\n",
       "      <td>Adult</td>\n",
       "      <td>High</td>\n",
       "    </tr>\n",
       "    <tr>\n",
       "      <th>4</th>\n",
       "      <td>5</td>\n",
       "      <td>Female</td>\n",
       "      <td>31</td>\n",
       "      <td>17</td>\n",
       "      <td>40</td>\n",
       "      <td>Young</td>\n",
       "      <td>Adult</td>\n",
       "      <td>Moderate</td>\n",
       "    </tr>\n",
       "  </tbody>\n",
       "</table>\n",
       "</div>"
      ],
      "text/plain": [
       "   CustomerID   Genre  Age  Annual Income (k$)  Spending Score (1-100)  \\\n",
       "0           1    Male   19                  15                      39   \n",
       "1           2    Male   21                  15                      81   \n",
       "2           3  Female   20                  16                       6   \n",
       "3           4  Female   23                  16                      77   \n",
       "4           5  Female   31                  17                      40   \n",
       "\n",
       "  AgeGroup  Group Group_Spending_Score  \n",
       "0    Young  Adult             Moderate  \n",
       "1    Young  Adult                 High  \n",
       "2    Young  Adult                  Low  \n",
       "3    Young  Adult                 High  \n",
       "4    Young  Adult             Moderate  "
      ]
     },
     "execution_count": 41,
     "metadata": {},
     "output_type": "execute_result"
    }
   ],
   "source": [
    "def score_group(spending_score):\n",
    "    if spending_score <20:\n",
    "        return 'Low'\n",
    "    elif 20 <= spending_score < 50:\n",
    "        return 'Moderate'\n",
    "    elif 50<= spending_score <100:\n",
    "        return 'High'\n",
    "    else:\n",
    "        return 'Extremely high'\n",
    "    \n",
    "df1['Group_Spending_Score'] = df1['Spending Score (1-100)'].apply(score_group)\n",
    "df1.head(5)"
   ]
  },
  {
   "cell_type": "markdown",
   "id": "e1883448",
   "metadata": {},
   "source": [
    "### Explain and apply feature scaling to numeric features"
   ]
  },
  {
   "cell_type": "code",
   "execution_count": 42,
   "id": "412c27bf",
   "metadata": {},
   "outputs": [],
   "source": [
    "from sklearn.preprocessing import StandardScaler"
   ]
  },
  {
   "cell_type": "code",
   "execution_count": 43,
   "id": "dcd5e690",
   "metadata": {},
   "outputs": [
    {
     "data": {
      "text/html": [
       "<div>\n",
       "<style scoped>\n",
       "    .dataframe tbody tr th:only-of-type {\n",
       "        vertical-align: middle;\n",
       "    }\n",
       "\n",
       "    .dataframe tbody tr th {\n",
       "        vertical-align: top;\n",
       "    }\n",
       "\n",
       "    .dataframe thead th {\n",
       "        text-align: right;\n",
       "    }\n",
       "</style>\n",
       "<table border=\"1\" class=\"dataframe\">\n",
       "  <thead>\n",
       "    <tr style=\"text-align: right;\">\n",
       "      <th></th>\n",
       "      <th>CustomerID</th>\n",
       "      <th>Age</th>\n",
       "      <th>Annual Income (k$)</th>\n",
       "      <th>Spending Score (1-100)</th>\n",
       "    </tr>\n",
       "  </thead>\n",
       "  <tbody>\n",
       "    <tr>\n",
       "      <th>0</th>\n",
       "      <td>-1.723412</td>\n",
       "      <td>-1.424569</td>\n",
       "      <td>-1.738999</td>\n",
       "      <td>-0.434801</td>\n",
       "    </tr>\n",
       "    <tr>\n",
       "      <th>1</th>\n",
       "      <td>-1.706091</td>\n",
       "      <td>-1.281035</td>\n",
       "      <td>-1.738999</td>\n",
       "      <td>1.195704</td>\n",
       "    </tr>\n",
       "    <tr>\n",
       "      <th>2</th>\n",
       "      <td>-1.688771</td>\n",
       "      <td>-1.352802</td>\n",
       "      <td>-1.700830</td>\n",
       "      <td>-1.715913</td>\n",
       "    </tr>\n",
       "    <tr>\n",
       "      <th>3</th>\n",
       "      <td>-1.671450</td>\n",
       "      <td>-1.137502</td>\n",
       "      <td>-1.700830</td>\n",
       "      <td>1.040418</td>\n",
       "    </tr>\n",
       "    <tr>\n",
       "      <th>4</th>\n",
       "      <td>-1.654129</td>\n",
       "      <td>-0.563369</td>\n",
       "      <td>-1.662660</td>\n",
       "      <td>-0.395980</td>\n",
       "    </tr>\n",
       "  </tbody>\n",
       "</table>\n",
       "</div>"
      ],
      "text/plain": [
       "   CustomerID       Age  Annual Income (k$)  Spending Score (1-100)\n",
       "0   -1.723412 -1.424569           -1.738999               -0.434801\n",
       "1   -1.706091 -1.281035           -1.738999                1.195704\n",
       "2   -1.688771 -1.352802           -1.700830               -1.715913\n",
       "3   -1.671450 -1.137502           -1.700830                1.040418\n",
       "4   -1.654129 -0.563369           -1.662660               -0.395980"
      ]
     },
     "execution_count": 43,
     "metadata": {},
     "output_type": "execute_result"
    }
   ],
   "source": [
    "num_cols = df1.select_dtypes(include=['int64', 'float64'])\n",
    "scaler = StandardScaler()\n",
    "scaled_data = pd.DataFrame(scaler.fit_transform(num_cols), columns=num_cols.columns)\n",
    "scaled_data.head()\n"
   ]
  },
  {
   "cell_type": "markdown",
   "id": "dcfe1cd3",
   "metadata": {},
   "source": [
    "## Aggregation and Feature Engineering"
   ]
  },
  {
   "cell_type": "markdown",
   "id": "ed0c9ef2",
   "metadata": {},
   "source": [
    "#### Compute average income by gender using groupby.\n"
   ]
  },
  {
   "cell_type": "code",
   "execution_count": 44,
   "id": "b949a0e1",
   "metadata": {},
   "outputs": [
    {
     "name": "stdout",
     "output_type": "stream",
     "text": [
      "        Annual Income (k$)\n",
      "Genre                     \n",
      "Female           59.250000\n",
      "Male             62.227273\n"
     ]
    }
   ],
   "source": [
    "income_gender = pd.DataFrame(df1.groupby('Genre')['Annual Income (k$)'].mean())\n",
    "print(income_gender)\n"
   ]
  },
  {
   "cell_type": "markdown",
   "id": "3f53b0d8",
   "metadata": {},
   "source": [
    "### Calculate max, min, and mean for numeric columns per group"
   ]
  },
  {
   "cell_type": "code",
   "execution_count": 45,
   "id": "13f34c0e",
   "metadata": {},
   "outputs": [
    {
     "name": "stdout",
     "output_type": "stream",
     "text": [
      "                        count    mean        std   min    25%    50%     75%  \\\n",
      "CustomerID              200.0  100.50  57.879185   1.0  50.75  100.5  150.25   \n",
      "Age                     200.0   38.85  13.969007  18.0  28.75   36.0   49.00   \n",
      "Annual Income (k$)      200.0   60.56  26.264721  15.0  41.50   61.5   78.00   \n",
      "Spending Score (1-100)  200.0   50.20  25.823522   1.0  34.75   50.0   73.00   \n",
      "\n",
      "                          max  \n",
      "CustomerID              200.0  \n",
      "Age                      70.0  \n",
      "Annual Income (k$)      137.0  \n",
      "Spending Score (1-100)   99.0  \n"
     ]
    }
   ],
   "source": [
    "stacs = df1.select_dtypes(include=['number']).describe().T\n",
    "print(stacs)"
   ]
  },
  {
   "cell_type": "markdown",
   "id": "110ef953",
   "metadata": {},
   "source": [
    "### Create a new ratio feature (e.g., income-to-age)"
   ]
  },
  {
   "cell_type": "code",
   "execution_count": 46,
   "id": "e6673aa7",
   "metadata": {},
   "outputs": [
    {
     "data": {
      "text/html": [
       "<div>\n",
       "<style scoped>\n",
       "    .dataframe tbody tr th:only-of-type {\n",
       "        vertical-align: middle;\n",
       "    }\n",
       "\n",
       "    .dataframe tbody tr th {\n",
       "        vertical-align: top;\n",
       "    }\n",
       "\n",
       "    .dataframe thead th {\n",
       "        text-align: right;\n",
       "    }\n",
       "</style>\n",
       "<table border=\"1\" class=\"dataframe\">\n",
       "  <thead>\n",
       "    <tr style=\"text-align: right;\">\n",
       "      <th></th>\n",
       "      <th>CustomerID</th>\n",
       "      <th>Genre</th>\n",
       "      <th>Age</th>\n",
       "      <th>Annual Income (k$)</th>\n",
       "      <th>Spending Score (1-100)</th>\n",
       "      <th>AgeGroup</th>\n",
       "      <th>Group</th>\n",
       "      <th>Group_Spending_Score</th>\n",
       "      <th>income_to_age</th>\n",
       "    </tr>\n",
       "  </thead>\n",
       "  <tbody>\n",
       "    <tr>\n",
       "      <th>0</th>\n",
       "      <td>1</td>\n",
       "      <td>Male</td>\n",
       "      <td>19</td>\n",
       "      <td>15</td>\n",
       "      <td>39</td>\n",
       "      <td>Young</td>\n",
       "      <td>Adult</td>\n",
       "      <td>Moderate</td>\n",
       "      <td>0.789474</td>\n",
       "    </tr>\n",
       "    <tr>\n",
       "      <th>1</th>\n",
       "      <td>2</td>\n",
       "      <td>Male</td>\n",
       "      <td>21</td>\n",
       "      <td>15</td>\n",
       "      <td>81</td>\n",
       "      <td>Young</td>\n",
       "      <td>Adult</td>\n",
       "      <td>High</td>\n",
       "      <td>0.714286</td>\n",
       "    </tr>\n",
       "    <tr>\n",
       "      <th>2</th>\n",
       "      <td>3</td>\n",
       "      <td>Female</td>\n",
       "      <td>20</td>\n",
       "      <td>16</td>\n",
       "      <td>6</td>\n",
       "      <td>Young</td>\n",
       "      <td>Adult</td>\n",
       "      <td>Low</td>\n",
       "      <td>0.800000</td>\n",
       "    </tr>\n",
       "    <tr>\n",
       "      <th>3</th>\n",
       "      <td>4</td>\n",
       "      <td>Female</td>\n",
       "      <td>23</td>\n",
       "      <td>16</td>\n",
       "      <td>77</td>\n",
       "      <td>Young</td>\n",
       "      <td>Adult</td>\n",
       "      <td>High</td>\n",
       "      <td>0.695652</td>\n",
       "    </tr>\n",
       "    <tr>\n",
       "      <th>4</th>\n",
       "      <td>5</td>\n",
       "      <td>Female</td>\n",
       "      <td>31</td>\n",
       "      <td>17</td>\n",
       "      <td>40</td>\n",
       "      <td>Young</td>\n",
       "      <td>Adult</td>\n",
       "      <td>Moderate</td>\n",
       "      <td>0.548387</td>\n",
       "    </tr>\n",
       "  </tbody>\n",
       "</table>\n",
       "</div>"
      ],
      "text/plain": [
       "   CustomerID   Genre  Age  Annual Income (k$)  Spending Score (1-100)  \\\n",
       "0           1    Male   19                  15                      39   \n",
       "1           2    Male   21                  15                      81   \n",
       "2           3  Female   20                  16                       6   \n",
       "3           4  Female   23                  16                      77   \n",
       "4           5  Female   31                  17                      40   \n",
       "\n",
       "  AgeGroup  Group Group_Spending_Score  income_to_age  \n",
       "0    Young  Adult             Moderate       0.789474  \n",
       "1    Young  Adult                 High       0.714286  \n",
       "2    Young  Adult                  Low       0.800000  \n",
       "3    Young  Adult                 High       0.695652  \n",
       "4    Young  Adult             Moderate       0.548387  "
      ]
     },
     "execution_count": 46,
     "metadata": {},
     "output_type": "execute_result"
    }
   ],
   "source": [
    "df1['income_to_age'] = df1['Annual Income (k$)'] / df1['Age']\n",
    "df1.head()"
   ]
  },
  {
   "cell_type": "markdown",
   "id": "eb67638f",
   "metadata": {},
   "source": [
    "### Flag “High value” customers based on income and spending greater than average."
   ]
  },
  {
   "cell_type": "code",
   "execution_count": 47,
   "id": "c4023db3",
   "metadata": {},
   "outputs": [],
   "source": [
    "avg_income = df1['Annual Income (k$)'].mean()\n",
    "avg_spending = df1['Spending Score (1-100)'].mean()"
   ]
  },
  {
   "cell_type": "code",
   "execution_count": null,
   "id": "70c484fd",
   "metadata": {},
   "outputs": [
    {
     "data": {
      "text/html": [
       "<div>\n",
       "<style scoped>\n",
       "    .dataframe tbody tr th:only-of-type {\n",
       "        vertical-align: middle;\n",
       "    }\n",
       "\n",
       "    .dataframe tbody tr th {\n",
       "        vertical-align: top;\n",
       "    }\n",
       "\n",
       "    .dataframe thead th {\n",
       "        text-align: right;\n",
       "    }\n",
       "</style>\n",
       "<table border=\"1\" class=\"dataframe\">\n",
       "  <thead>\n",
       "    <tr style=\"text-align: right;\">\n",
       "      <th></th>\n",
       "      <th>CustomerID</th>\n",
       "      <th>Genre</th>\n",
       "      <th>Age</th>\n",
       "      <th>Annual Income (k$)</th>\n",
       "      <th>Spending Score (1-100)</th>\n",
       "      <th>AgeGroup</th>\n",
       "      <th>Group</th>\n",
       "      <th>Group_Spending_Score</th>\n",
       "      <th>income_to_age</th>\n",
       "      <th>HighValueCustomer</th>\n",
       "    </tr>\n",
       "  </thead>\n",
       "  <tbody>\n",
       "    <tr>\n",
       "      <th>0</th>\n",
       "      <td>1</td>\n",
       "      <td>Male</td>\n",
       "      <td>19</td>\n",
       "      <td>15</td>\n",
       "      <td>39</td>\n",
       "      <td>Young</td>\n",
       "      <td>Adult</td>\n",
       "      <td>Moderate</td>\n",
       "      <td>0.789474</td>\n",
       "      <td>False</td>\n",
       "    </tr>\n",
       "    <tr>\n",
       "      <th>1</th>\n",
       "      <td>2</td>\n",
       "      <td>Male</td>\n",
       "      <td>21</td>\n",
       "      <td>15</td>\n",
       "      <td>81</td>\n",
       "      <td>Young</td>\n",
       "      <td>Adult</td>\n",
       "      <td>High</td>\n",
       "      <td>0.714286</td>\n",
       "      <td>False</td>\n",
       "    </tr>\n",
       "    <tr>\n",
       "      <th>2</th>\n",
       "      <td>3</td>\n",
       "      <td>Female</td>\n",
       "      <td>20</td>\n",
       "      <td>16</td>\n",
       "      <td>6</td>\n",
       "      <td>Young</td>\n",
       "      <td>Adult</td>\n",
       "      <td>Low</td>\n",
       "      <td>0.800000</td>\n",
       "      <td>False</td>\n",
       "    </tr>\n",
       "    <tr>\n",
       "      <th>3</th>\n",
       "      <td>4</td>\n",
       "      <td>Female</td>\n",
       "      <td>23</td>\n",
       "      <td>16</td>\n",
       "      <td>77</td>\n",
       "      <td>Young</td>\n",
       "      <td>Adult</td>\n",
       "      <td>High</td>\n",
       "      <td>0.695652</td>\n",
       "      <td>False</td>\n",
       "    </tr>\n",
       "    <tr>\n",
       "      <th>4</th>\n",
       "      <td>5</td>\n",
       "      <td>Female</td>\n",
       "      <td>31</td>\n",
       "      <td>17</td>\n",
       "      <td>40</td>\n",
       "      <td>Young</td>\n",
       "      <td>Adult</td>\n",
       "      <td>Moderate</td>\n",
       "      <td>0.548387</td>\n",
       "      <td>False</td>\n",
       "    </tr>\n",
       "  </tbody>\n",
       "</table>\n",
       "</div>"
      ],
      "text/plain": [
       "   CustomerID   Genre  Age  Annual Income (k$)  Spending Score (1-100)  \\\n",
       "0           1    Male   19                  15                      39   \n",
       "1           2    Male   21                  15                      81   \n",
       "2           3  Female   20                  16                       6   \n",
       "3           4  Female   23                  16                      77   \n",
       "4           5  Female   31                  17                      40   \n",
       "\n",
       "  AgeGroup  Group Group_Spending_Score  income_to_age  HighValueCustomer  \n",
       "0    Young  Adult             Moderate       0.789474              False  \n",
       "1    Young  Adult                 High       0.714286              False  \n",
       "2    Young  Adult                  Low       0.800000              False  \n",
       "3    Young  Adult                 High       0.695652              False  \n",
       "4    Young  Adult             Moderate       0.548387              False  "
      ]
     },
     "execution_count": 48,
     "metadata": {},
     "output_type": "execute_result"
    }
   ],
   "source": [
    "df1['HighValueCustomer'] = ((df1['Annual Income (k$)'] > avg_income) & (df1['Spending Score (1-100)'] > avg_spending))\n",
    "df1.head()"
   ]
  },
  {
   "cell_type": "markdown",
   "id": "99651f8a",
   "metadata": {},
   "source": [
    "### Compute correlation between numeric features."
   ]
  },
  {
   "cell_type": "code",
   "execution_count": 49,
   "id": "671813fa",
   "metadata": {},
   "outputs": [
    {
     "data": {
      "text/html": [
       "<div>\n",
       "<style scoped>\n",
       "    .dataframe tbody tr th:only-of-type {\n",
       "        vertical-align: middle;\n",
       "    }\n",
       "\n",
       "    .dataframe tbody tr th {\n",
       "        vertical-align: top;\n",
       "    }\n",
       "\n",
       "    .dataframe thead th {\n",
       "        text-align: right;\n",
       "    }\n",
       "</style>\n",
       "<table border=\"1\" class=\"dataframe\">\n",
       "  <thead>\n",
       "    <tr style=\"text-align: right;\">\n",
       "      <th></th>\n",
       "      <th>CustomerID</th>\n",
       "      <th>Age</th>\n",
       "      <th>Annual Income (k$)</th>\n",
       "      <th>Spending Score (1-100)</th>\n",
       "    </tr>\n",
       "  </thead>\n",
       "  <tbody>\n",
       "    <tr>\n",
       "      <th>CustomerID</th>\n",
       "      <td>1.000000</td>\n",
       "      <td>-0.026763</td>\n",
       "      <td>0.977548</td>\n",
       "      <td>0.013835</td>\n",
       "    </tr>\n",
       "    <tr>\n",
       "      <th>Age</th>\n",
       "      <td>-0.026763</td>\n",
       "      <td>1.000000</td>\n",
       "      <td>-0.012398</td>\n",
       "      <td>-0.327227</td>\n",
       "    </tr>\n",
       "    <tr>\n",
       "      <th>Annual Income (k$)</th>\n",
       "      <td>0.977548</td>\n",
       "      <td>-0.012398</td>\n",
       "      <td>1.000000</td>\n",
       "      <td>0.009903</td>\n",
       "    </tr>\n",
       "    <tr>\n",
       "      <th>Spending Score (1-100)</th>\n",
       "      <td>0.013835</td>\n",
       "      <td>-0.327227</td>\n",
       "      <td>0.009903</td>\n",
       "      <td>1.000000</td>\n",
       "    </tr>\n",
       "  </tbody>\n",
       "</table>\n",
       "</div>"
      ],
      "text/plain": [
       "                        CustomerID       Age  Annual Income (k$)  \\\n",
       "CustomerID                1.000000 -0.026763            0.977548   \n",
       "Age                      -0.026763  1.000000           -0.012398   \n",
       "Annual Income (k$)        0.977548 -0.012398            1.000000   \n",
       "Spending Score (1-100)    0.013835 -0.327227            0.009903   \n",
       "\n",
       "                        Spending Score (1-100)  \n",
       "CustomerID                            0.013835  \n",
       "Age                                  -0.327227  \n",
       "Annual Income (k$)                    0.009903  \n",
       "Spending Score (1-100)                1.000000  "
      ]
     },
     "execution_count": 49,
     "metadata": {},
     "output_type": "execute_result"
    }
   ],
   "source": [
    "correlation_matrix = num_cols.corr()\n",
    "correlation_matrix"
   ]
  },
  {
   "cell_type": "markdown",
   "id": "70facfc6",
   "metadata": {},
   "source": [
    "### Determine which gender has a higher average spending score."
   ]
  },
  {
   "cell_type": "code",
   "execution_count": 50,
   "id": "2539134a",
   "metadata": {},
   "outputs": [
    {
     "name": "stdout",
     "output_type": "stream",
     "text": [
      "        Spending Score (1-100)\n",
      "Genre                         \n",
      "Female               51.526786\n",
      "Male                 48.511364\n"
     ]
    }
   ],
   "source": [
    "spending_gender = pd.DataFrame(df1.groupby('Genre')['Spending Score (1-100)'].mean())\n",
    "print(spending_gender)"
   ]
  },
  {
   "cell_type": "markdown",
   "id": "3e205283",
   "metadata": {},
   "source": [
    "### Create a pivot table by age group and gender for average spending."
   ]
  },
  {
   "cell_type": "code",
   "execution_count": 53,
   "id": "6017e941",
   "metadata": {},
   "outputs": [
    {
     "name": "stdout",
     "output_type": "stream",
     "text": [
      "Genre   Group \n",
      "Female  Adult     61.500000\n",
      "        Senior    37.217391\n",
      "Male    Adult     57.800000\n",
      "        Senior    36.289474\n",
      "Name: Spending Score (1-100), dtype: float64\n"
     ]
    }
   ],
   "source": [
    "age_gender_spend = df1.groupby(['Genre', 'Group'])['Spending Score (1-100)'].mean()\n",
    "print(age_gender_spend)"
   ]
  },
  {
   "cell_type": "markdown",
   "id": "983620e5",
   "metadata": {},
   "source": [
    "## Visualizations and Group exploration"
   ]
  },
  {
   "cell_type": "markdown",
   "id": "a1c50272",
   "metadata": {},
   "source": [
    "### Plot histogram of age distribution"
   ]
  },
  {
   "cell_type": "code",
   "execution_count": 54,
   "id": "d4d3779f",
   "metadata": {},
   "outputs": [
    {
     "data": {
      "image/png": "[encoded data removed]",
      "text/plain": [
       "<Figure size 1200x800 with 1 Axes>"
      ]
     },
     "metadata": {},
     "output_type": "display_data"
    }
   ],
   "source": [
    "plt.figure(figsize=(12,8))\n",
    "sns.histplot(x=df1['Age'], kde=True, color='skyblue')\n",
    "plt.title('Age Disribution')\n",
    "plt.xlabel('Age')\n",
    "plt.ylabel('Frequency')\n",
    "plt.show()"
   ]
  },
  {
   "cell_type": "markdown",
   "id": "097b9a94",
   "metadata": {},
   "source": [
    "### Create a bar chart of average spending score by gender.\n"
   ]
  },
  {
   "cell_type": "code",
   "execution_count": 56,
   "id": "c0cff89c",
   "metadata": {},
   "outputs": [
    {
     "name": "stdout",
     "output_type": "stream",
     "text": [
      "        Spending Score (1-100)\n",
      "Genre                         \n",
      "Female               51.526786\n",
      "Male                 48.511364\n"
     ]
    }
   ],
   "source": [
    "avg_spend_gender = pd.DataFrame(df1.groupby('Genre')['Spending Score (1-100)'].mean())\n",
    "print(avg_spend_gender)"
   ]
  },
  {
   "cell_type": "code",
   "execution_count": null,
   "id": "890dc47b",
   "metadata": {},
   "outputs": [
    {
     "data": {
      "text/plain": [
       "<Figure size 1200x800 with 0 Axes>"
      ]
     },
     "metadata": {},
     "output_type": "display_data"
    },
    {
     "data": {
      "image/png": "[encoded data removed]",
      "text/plain": [
       "<Figure size 640x480 with 1 Axes>"
      ]
     },
     "metadata": {},
     "output_type": "display_data"
    }
   ],
   "source": [
    "plt.figure(figsize=(12,8))\n",
    "avg_spend_gender.plot(kind='bar', legend=False)\n",
    "plt.title('Bar chart of average spending score by gender')\n",
    "plt.xlabel('Gender')\n",
    "plt.ylabel('Average spending score')\n",
    "plt.show()"
   ]
  },
  {
   "cell_type": "markdown",
   "id": "af421bb1",
   "metadata": {},
   "source": [
    "### Create a scatter plot of Annual Income vs Spending Score.\n"
   ]
  },
  {
   "cell_type": "code",
   "execution_count": 59,
   "id": "5e0bc9f0",
   "metadata": {},
   "outputs": [
    {
     "data": {
      "image/png": "[encoded data removed]",
      "text/plain": [
       "<Figure size 1200x600 with 1 Axes>"
      ]
     },
     "metadata": {},
     "output_type": "display_data"
    }
   ],
   "source": [
    "plt.figure(figsize=(12,6))\n",
    "sns.scatterplot(x=df1['Annual Income (k$)'], y=df1['Spending Score (1-100)'])\n",
    "plt.title('Scatter plot of annual income versus spending score')\n",
    "plt.xlabel('Annual Income')\n",
    "plt.ylabel('Spending Score')\n",
    "plt.show()"
   ]
  },
  {
   "cell_type": "markdown",
   "id": "88f467bc",
   "metadata": {},
   "source": [
    "### Create a boxplot of spending score grouped by age bins."
   ]
  },
  {
   "cell_type": "code",
   "execution_count": 60,
   "id": "954529b9",
   "metadata": {},
   "outputs": [
    {
     "name": "stderr",
     "output_type": "stream",
     "text": [
      "C:\\Users\\USER\\AppData\\Local\\Temp\\ipykernel_6664\\3929868272.py:2: FutureWarning: \n",
      "\n",
      "Passing `palette` without assigning `hue` is deprecated and will be removed in v0.14.0. Assign the `x` variable to `hue` and set `legend=False` for the same effect.\n",
      "\n",
      "  sns.boxplot(x=df1['AgeGroup'], y=df1['Spending Score (1-100)'], palette='viridis')\n"
     ]
    },
    {
     "data": {
      "image/png": "[encoded data removed]",
      "text/plain": [
       "<Figure size 1200x800 with 1 Axes>"
      ]
     },
     "metadata": {},
     "output_type": "display_data"
    }
   ],
   "source": [
    "plt.figure(figsize=(12,8))\n",
    "sns.boxplot(x=df1['AgeGroup'], y=df1['Spending Score (1-100)'], palette='viridis')\n",
    "plt.title('Boxplot of Spending score grouped by Age groups')\n",
    "plt.xlabel('Age Group')\n",
    "plt.ylabel('Spending score')\n",
    "plt.show()"
   ]
  },
  {
   "cell_type": "markdown",
   "id": "f805edce",
   "metadata": {},
   "source": [
    "### Create a heatmap of correlations between numeric features."
   ]
  },
  {
   "cell_type": "code",
   "execution_count": 61,
   "id": "f2955349",
   "metadata": {},
   "outputs": [
    {
     "data": {
      "image/png": "[encoded data removed]",
      "text/plain": [
       "<Figure size 1200x800 with 2 Axes>"
      ]
     },
     "metadata": {},
     "output_type": "display_data"
    }
   ],
   "source": [
    "plt.figure(figsize=(12,8))\n",
    "sns.heatmap(correlation_matrix, annot=True)\n",
    "plt.title('Correlation matrix of numeric features')\n",
    "plt.show()"
   ]
  },
  {
   "cell_type": "markdown",
   "id": "dbab1762",
   "metadata": {},
   "source": [
    "## Dimensionality reduction (PCA & t-SNE)"
   ]
  },
  {
   "cell_type": "markdown",
   "id": "221fb85d",
   "metadata": {},
   "source": [
    "### Run PCA on standardized income and spending features and plot explained variance.\n"
   ]
  },
  {
   "cell_type": "code",
   "execution_count": null,
   "id": "f4f692d6",
   "metadata": {},
   "outputs": [],
   "source": [
    "X = df1[['Spending Score (1-100)', 'Annual Income (k$)']]"
   ]
  },
  {
   "cell_type": "code",
   "execution_count": 64,
   "id": "7688d468",
   "metadata": {},
   "outputs": [],
   "source": [
    "# Scaling\n",
    "scaler = StandardScaler()\n",
    "X_scaled = scaler.fit_transform(X)"
   ]
  },
  {
   "cell_type": "code",
   "execution_count": 65,
   "id": "6ca41bc0",
   "metadata": {},
   "outputs": [
    {
     "data": {
      "text/plain": [
       "Text(0.5, 1.0, 'Explained variance ratio vs. Number of components')"
      ]
     },
     "execution_count": 65,
     "metadata": {},
     "output_type": "execute_result"
    },
    {
     "data": {
      "image/png": "[encoded data removed]",
      "text/plain": [
       "<Figure size 640x480 with 1 Axes>"
      ]
     },
     "metadata": {},
     "output_type": "display_data"
    }
   ],
   "source": [
    "pca = PCA().fit(X_scaled)\n",
    "plt.plot(range(1, len(pca.explained_variance_ratio_)+1),\n",
    "         pca.explained_variance_ratio_.cumsum(), marker = 'o')\n",
    "plt.xlabel('Number of components')\n",
    "plt.ylabel('Explained variance')\n",
    "plt.title('Explained variance ratio vs. Number of components')"
   ]
  },
  {
   "cell_type": "markdown",
   "id": "b2bb3b7d",
   "metadata": {},
   "source": [
    "### Plot 2D PCA components scatter colored by a category (e.g., Gender).\n"
   ]
  },
  {
   "cell_type": "code",
   "execution_count": 69,
   "id": "722392aa",
   "metadata": {},
   "outputs": [],
   "source": [
    "# Separate features and labels\n",
    "from sklearn.preprocessing import LabelEncoder\n",
    "le = LabelEncoder()\n",
    "df1['Genre_encoded'] = le.fit_transform(df1['Genre'])"
   ]
  },
  {
   "cell_type": "code",
   "execution_count": 70,
   "id": "c8b806ba",
   "metadata": {},
   "outputs": [],
   "source": [
    "y = df1['Genre_encoded']"
   ]
  },
  {
   "cell_type": "code",
   "execution_count": 71,
   "id": "93ab198d",
   "metadata": {},
   "outputs": [],
   "source": [
    "# Apply PCA to reduce to 2 dimensions\n",
    "pca = PCA(n_components=2)\n",
    "X_pca = pca.fit_transform(X_scaled)\n",
    "# Create a DataFrame with PCA results\n",
    "pca_df = pd.DataFrame(data=X_pca, columns=['PC1', 'PC2'])\n",
    "pca_df['Genre_encoded'] = y.values"
   ]
  },
  {
   "cell_type": "code",
   "execution_count": 72,
   "id": "cc915d3a",
   "metadata": {},
   "outputs": [
    {
     "data": {
      "image/png": "[encoded data removed]",
      "text/plain": [
       "<Figure size 1200x800 with 1 Axes>"
      ]
     },
     "metadata": {},
     "output_type": "display_data"
    }
   ],
   "source": [
    "# Plot the PCA results colored by department\n",
    "plt.figure(figsize=(12,8))\n",
    "for genr in pca_df['Genre_encoded'].unique():\n",
    "    subset = pca_df[pca_df['Genre_encoded'] == genr]\n",
    "    plt.scatter(subset['PC1'], subset['PC2'], label=genr, alpha=0.7)\n",
    "\n",
    "plt.xlabel('Principal Component 1')\n",
    "plt.ylabel('Principal Component 2')\n",
    "plt.title('PCA components Colored by Genre')\n",
    "plt.legend()\n",
    "plt.show()"
   ]
  },
  {
   "cell_type": "markdown",
   "id": "ebd94d68",
   "metadata": {},
   "source": [
    "### Run t-SNE and plot the 2D embedding.\n"
   ]
  },
  {
   "cell_type": "code",
   "execution_count": 74,
   "id": "9a47826b",
   "metadata": {},
   "outputs": [],
   "source": [
    "from sklearn.manifold import TSNE\n",
    "# Run t-SNE\n",
    "tsne = TSNE(n_components=2, perplexity=30, random_state=42)\n",
    "tsne_result = tsne.fit_transform(X_scaled)"
   ]
  },
  {
   "cell_type": "code",
   "execution_count": 75,
   "id": "9ed205a1",
   "metadata": {},
   "outputs": [
    {
     "data": {
      "image/png": "[encoded data removed]",
      "text/plain": [
       "<Figure size 1200x800 with 1 Axes>"
      ]
     },
     "metadata": {},
     "output_type": "display_data"
    }
   ],
   "source": [
    "# Plot\n",
    "plt.figure(figsize=(12,8))\n",
    "plt.scatter(tsne_result[:, 0], tsne_result[:, 1])\n",
    "plt.title('t-SNE Visualization')\n",
    "plt.xlabel('Dim 1')\n",
    "plt.ylabel('Dim 2')\n",
    "plt.grid(True)\n",
    "plt.show()"
   ]
  },
  {
   "cell_type": "markdown",
   "id": "14143772",
   "metadata": {},
   "source": [
    "### Compare PCA and t-SNE plots — which shows clearer clusters?"
   ]
  },
  {
   "cell_type": "markdown",
   "id": "46ce0848",
   "metadata": {},
   "source": [
    "The SNE plot shows clearer clusters than its PCA counterpart"
   ]
  },
  {
   "cell_type": "markdown",
   "id": "66ff4252",
   "metadata": {},
   "source": [
    "## Clustering & evaluation"
   ]
  },
  {
   "cell_type": "markdown",
   "id": "e8fef5a7",
   "metadata": {},
   "source": [
    "### Run k-means for k=2…10 on standardized features and plot the elbow curve.\n"
   ]
  },
  {
   "cell_type": "code",
   "execution_count": 77,
   "id": "fc100ae7",
   "metadata": {},
   "outputs": [
    {
     "data": {
      "text/plain": [
       "Index(['Age', 'Annual Income (k$)', 'Spending Score (1-100)', 'income_to_age'], dtype='object')"
      ]
     },
     "execution_count": 77,
     "metadata": {},
     "output_type": "execute_result"
    }
   ],
   "source": [
    "numerical_columns = df1[['Age', 'Annual Income (k$)', 'Spending Score (1-100)', 'income_to_age']]\n",
    "numerical_columns.columns"
   ]
  },
  {
   "cell_type": "code",
   "execution_count": 78,
   "id": "8894a368",
   "metadata": {},
   "outputs": [],
   "source": [
    "# Standardize the numerical features\n",
    "scaled_data = scaler.fit_transform(numerical_columns)"
   ]
  },
  {
   "cell_type": "code",
   "execution_count": 85,
   "id": "7809f371",
   "metadata": {},
   "outputs": [],
   "source": [
    "# Elbow method to find optimal K\n",
    "inertias = []\n",
    "silhouette_scores = []\n",
    "k_range = range(2, 10)"
   ]
  },
  {
   "cell_type": "code",
   "execution_count": 86,
   "id": "741f2801",
   "metadata": {},
   "outputs": [],
   "source": [
    "for k in k_range:\n",
    "    kmeans = KMeans(n_clusters=k, init='k-means++', random_state=42)\n",
    "    kmeans.fit(scaled_data)\n",
    "    inertias.append(kmeans.inertia_)\n",
    "    score = silhouette_score(scaled_data, kmeans.labels_)\n",
    "    silhouette_scores.append(score)"
   ]
  },
  {
   "cell_type": "code",
   "execution_count": 87,
   "id": "9748181d",
   "metadata": {},
   "outputs": [
    {
     "data": {
      "text/plain": [
       "Text(0.5, 1.0, 'Elbow Method - Inertia')"
      ]
     },
     "execution_count": 87,
     "metadata": {},
     "output_type": "execute_result"
    },
    {
     "data": {
      "image/png": "[encoded data removed]",
      "text/plain": [
       "<Figure size 1200x500 with 1 Axes>"
      ]
     },
     "metadata": {},
     "output_type": "display_data"
    }
   ],
   "source": [
    "# Plot Inertia vs K (Elbow Method)\n",
    "plt.figure(figsize=(12, 5))\n",
    "plt.subplot(1, 2, 1)\n",
    "plt.plot(K_range, inertias, 'bo-')\n",
    "plt.xlabel('Number of Clusters (K)')\n",
    "plt.ylabel('Inertia')\n",
    "plt.title('Elbow Method - Inertia')"
   ]
  },
  {
   "cell_type": "markdown",
   "id": "5ca2fd3e",
   "metadata": {},
   "source": [
    "### Compute silhouette score for each k and identify the best k.\n"
   ]
  },
  {
   "cell_type": "code",
   "execution_count": 88,
   "id": "f77ce4ae",
   "metadata": {},
   "outputs": [
    {
     "data": {
      "image/png": "[encoded data removed]",
      "text/plain": [
       "<Figure size 640x480 with 1 Axes>"
      ]
     },
     "metadata": {},
     "output_type": "display_data"
    }
   ],
   "source": [
    "# Plot Silhouette Score vs K\n",
    "plt.subplot(1, 2, 2)\n",
    "plt.plot(k_range, silhouette_scores, 'go-')\n",
    "plt.xlabel('Number of Clusters (K)')\n",
    "plt.ylabel('Silhouette Score')\n",
    "plt.title('Silhouette Score for K')\n",
    "plt.tight_layout()\n",
    "plt.show()"
   ]
  },
  {
   "cell_type": "markdown",
   "id": "e2803328",
   "metadata": {},
   "source": [
    "The optimal number of clusters is 6"
   ]
  },
  {
   "cell_type": "markdown",
   "id": "c8fc0f19",
   "metadata": {},
   "source": [
    "### Plot clusters for the chosen k using a scatter plot."
   ]
  },
  {
   "cell_type": "code",
   "execution_count": 90,
   "id": "a3bae533",
   "metadata": {},
   "outputs": [],
   "source": [
    "# Apply KMeans with Optimal K (based on elbow/silhouette)\n",
    "optimal_k = 6  # You can change this based on the elbow/silhouette\n",
    "kmeans = KMeans(n_clusters=optimal_k, init='k-means++', random_state=42)\n",
    "clusters = kmeans.fit_predict(scaled_data)\n",
    "df1['Cluster'] = clusters"
   ]
  },
  {
   "cell_type": "code",
   "execution_count": 94,
   "id": "ab295c16",
   "metadata": {},
   "outputs": [
    {
     "data": {
      "image/png": "[encoded data removed]",
      "text/plain": [
       "<Figure size 1200x800 with 1 Axes>"
      ]
     },
     "metadata": {},
     "output_type": "display_data"
    }
   ],
   "source": [
    "# Visualize Clusters\n",
    "plt.figure(figsize=(12, 8))\n",
    "colors = ['purple', 'orange', 'green', 'blue', 'red','skyblue']\n",
    "for i in range(optimal_k):\n",
    "    plt.scatter(df1['Age'][df1['Cluster'] == i],\n",
    "                df1['Annual Income (k$)'][df1['Cluster'] == i],\n",
    "                label=f'Cluster {i+1}',\n",
    "                color=colors[i])"
   ]
  },
  {
   "cell_type": "code",
   "execution_count": 95,
   "id": "f893286a",
   "metadata": {},
   "outputs": [
    {
     "data": {
      "image/png": "[encoded data removed]",
      "text/plain": [
       "<Figure size 1200x800 with 1 Axes>"
      ]
     },
     "metadata": {},
     "output_type": "display_data"
    }
   ],
   "source": [
    "# Visualize Clusters\n",
    "plt.figure(figsize=(12, 8))\n",
    "colors = ['purple', 'orange', 'green', 'blue', 'red','skyblue']\n",
    "for i in range(optimal_k):\n",
    "    plt.scatter(df1['Spending Score (1-100)'][df1['Cluster'] == i],\n",
    "                df1['income_to_age'][df1['Cluster'] == i],\n",
    "                label=f'Cluster {i+1}',\n",
    "                color=colors[i])"
   ]
  },
  {
   "cell_type": "code",
   "execution_count": 96,
   "id": "9378e336",
   "metadata": {},
   "outputs": [
    {
     "data": {
      "image/png": "[encoded data removed]",
      "text/plain": [
       "<Figure size 640x480 with 1 Axes>"
      ]
     },
     "metadata": {},
     "output_type": "display_data"
    }
   ],
   "source": [
    "# Add cluster centroids\n",
    "centroids = scaler.inverse_transform(kmeans.cluster_centers_)\n",
    "plt.scatter(centroids[:, 0], centroids[:, 1], s=300, c='black', label='Centroids', marker='X')\n",
    "\n",
    "plt.xlabel(\"Age\")\n",
    "plt.ylabel(\"Income\")\n",
    "plt.title(f\"Customer Segmentation (K={optimal_k})\")\n",
    "plt.legend()\n",
    "plt.grid(True)\n",
    "plt.show()"
   ]
  },
  {
   "cell_type": "code",
   "execution_count": 97,
   "id": "802fff17",
   "metadata": {},
   "outputs": [
    {
     "name": "stdout",
     "output_type": "stream",
     "text": [
      "Final Inertia (Total within-cluster distance): 190.37\n",
      "Silhouette Score: 0.4086\n",
      "\n",
      "Cluster Assignments:\n",
      "    CustomerID   Genre  Age  Annual Income (k$)  Spending Score (1-100)  \\\n",
      "63          64  Female   54                  47                      59   \n",
      "62          63  Female   67                  47                      52   \n",
      "54          55  Female   50                  43                      45   \n",
      "53          54    Male   59                  43                      60   \n",
      "50          51  Female   49                  42                      52   \n",
      "..         ...     ...  ...                 ...                     ...   \n",
      "26          27  Female   45                  28                      32   \n",
      "18          19    Male   52                  23                      29   \n",
      "16          17  Female   35                  21                      35   \n",
      "20          21    Male   35                  24                      35   \n",
      "22          23  Female   46                  25                       5   \n",
      "\n",
      "   AgeGroup   Group Group_Spending_Score  income_to_age  HighValueCustomer  \\\n",
      "63    Adult  Senior                 High       0.870370              False   \n",
      "62   Senior  Senior                 High       0.701493              False   \n",
      "54    Adult  Senior             Moderate       0.860000              False   \n",
      "53    Adult  Senior                 High       0.728814              False   \n",
      "50    Adult  Senior                 High       0.857143              False   \n",
      "..      ...     ...                  ...            ...                ...   \n",
      "26    Adult  Senior             Moderate       0.622222              False   \n",
      "18    Adult  Senior             Moderate       0.442308              False   \n",
      "16    Young   Adult             Moderate       0.600000              False   \n",
      "20    Young   Adult             Moderate       0.685714              False   \n",
      "22    Adult  Senior                  Low       0.543478              False   \n",
      "\n",
      "    Genre_encoded  Cluster  \n",
      "63              0        0  \n",
      "62              0        0  \n",
      "54              0        0  \n",
      "53              1        0  \n",
      "50              0        0  \n",
      "..            ...      ...  \n",
      "26              0        5  \n",
      "18              1        5  \n",
      "16              0        5  \n",
      "20              1        5  \n",
      "22              0        5  \n",
      "\n",
      "[200 rows x 12 columns]\n"
     ]
    }
   ],
   "source": [
    "#  Evaluate Clustering Performance\n",
    "print(f\"Final Inertia (Total within-cluster distance): {kmeans.inertia_:.2f}\")\n",
    "sil_score = silhouette_score(scaled_data, clusters)\n",
    "print(f\"Silhouette Score: {sil_score:.4f}\")\n",
    "\n",
    "#  Display Cluster Assignments\n",
    "print(\"\\nCluster Assignments:\")\n",
    "print(df1.sort_values(by='Cluster'))"
   ]
  },
  {
   "cell_type": "markdown",
   "id": "9a8736f0",
   "metadata": {},
   "source": [
    "### Run hierarchical clustering and visualize a dendrogram."
   ]
  },
  {
   "cell_type": "code",
   "execution_count": 98,
   "id": "390c4b46",
   "metadata": {},
   "outputs": [],
   "source": [
    "from scipy.cluster.hierarchy import dendrogram, linkage"
   ]
  },
  {
   "cell_type": "code",
   "execution_count": 99,
   "id": "caa4b1f5",
   "metadata": {},
   "outputs": [
    {
     "data": {
      "image/png": "[encoded data removed]",
      "text/plain": [
       "<Figure size 1000x600 with 1 Axes>"
      ]
     },
     "metadata": {},
     "output_type": "display_data"
    }
   ],
   "source": [
    "# Linkage matrix\n",
    "linked = linkage(numerical_columns, method='ward')\n",
    "\n",
    "# Plot dendrogram\n",
    "plt.figure(figsize=(10, 6))\n",
    "dendrogram(linked,\n",
    "           labels=range(1, len(numerical_columns)+1),\n",
    "           orientation='top',\n",
    "           distance_sort='ascending',\n",
    "           show_leaf_counts=True)\n",
    "plt.title('Hierarchical Clustering Dendrogram')\n",
    "plt.xlabel('Data Points')\n",
    "plt.ylabel('Distance')\n",
    "plt.show()"
   ]
  },
  {
   "cell_type": "markdown",
   "id": "a5d7e6bf",
   "metadata": {},
   "source": [
    "### Cut the dendrogram at k clusters and compare with k-means.\n"
   ]
  },
  {
   "cell_type": "code",
   "execution_count": 100,
   "id": "f2c21233",
   "metadata": {},
   "outputs": [],
   "source": [
    "from sklearn.cluster import AgglomerativeClustering"
   ]
  },
  {
   "cell_type": "code",
   "execution_count": 103,
   "id": "5396ca76",
   "metadata": {},
   "outputs": [
    {
     "data": {
      "image/png": "[encoded data removed]",
      "text/plain": [
       "<Figure size 640x480 with 1 Axes>"
      ]
     },
     "metadata": {},
     "output_type": "display_data"
    }
   ],
   "source": [
    "# Apply Agglomerative Clustering with 3 clusters\n",
    "model = AgglomerativeClustering(n_clusters=6, linkage='ward')\n",
    "df1['Cluster'] = model.fit_predict(numerical_columns)\n",
    "\n",
    "# Visualize\n",
    "plt.scatter(df1['Age'], df1['Annual Income (k$)'], c=df1['Cluster'], cmap='Accent')\n",
    "plt.xlabel('Age')\n",
    "plt.ylabel('Income')\n",
    "plt.title('Agglomerative Clustering')\n",
    "plt.show()"
   ]
  },
  {
   "cell_type": "markdown",
   "id": "10617041",
   "metadata": {},
   "source": [
    "### Evaluation"
   ]
  },
  {
   "cell_type": "code",
   "execution_count": 105,
   "id": "2e5885f0",
   "metadata": {},
   "outputs": [
    {
     "name": "stdout",
     "output_type": "stream",
     "text": [
      "Silhouette Score: 0.3231\n"
     ]
    }
   ],
   "source": [
    "# from sklearn.metrics import silhouette_score\n",
    "# from sklearn.preprocessing import StandardScaler\n",
    "\n",
    "# Standardize\n",
    "# scaled_data = StandardScaler().fit_transform(data[['Age', 'Income']])\n",
    "\n",
    "# Cluster\n",
    "model = AgglomerativeClustering(n_clusters=3, linkage='ward')\n",
    "labels = model.fit_predict(scaled_data)\n",
    "\n",
    "# Score\n",
    "score = silhouette_score(scaled_data, labels)\n",
    "print(f'Silhouette Score: {score:.4f}')"
   ]
  },
  {
   "cell_type": "markdown",
   "id": "f90a60af",
   "metadata": {},
   "source": [
    "### Profile each cluster: average age, income, spending score.\n"
   ]
  },
  {
   "cell_type": "code",
   "execution_count": 106,
   "id": "537bb76f",
   "metadata": {},
   "outputs": [
    {
     "name": "stdout",
     "output_type": "stream",
     "text": [
      "           Age  Annual Income (k$)  Spending Score (1-100)\n",
      "Cluster                                                   \n",
      "0        41.69               88.23                   17.29\n",
      "1        53.22               55.12                   49.47\n",
      "2        32.69               86.54                   82.13\n",
      "3        24.85               24.95                   81.00\n",
      "4        45.22               26.30                   20.91\n",
      "5        24.53               54.19                   50.25\n"
     ]
    }
   ],
   "source": [
    "#import pandas as pd\n",
    "\n",
    "cluster_profile = df1.groupby('Cluster').agg({\n",
    "    'Age': 'mean',\n",
    "    'Annual Income (k$)': 'mean',\n",
    "    'Spending Score (1-100)': 'mean'\n",
    "}).round(2)\n",
    "\n",
    "print(cluster_profile)\n"
   ]
  },
  {
   "cell_type": "markdown",
   "id": "60af9a2d",
   "metadata": {},
   "source": [
    "### Check cluster sizes"
   ]
  },
  {
   "cell_type": "code",
   "execution_count": 107,
   "id": "e59f2bf8",
   "metadata": {},
   "outputs": [
    {
     "name": "stdout",
     "output_type": "stream",
     "text": [
      "Cluster Sizes:\n",
      "Cluster\n",
      "0    35\n",
      "1    51\n",
      "2    39\n",
      "3    20\n",
      "4    23\n",
      "5    32\n",
      "Name: count, dtype: int64\n"
     ]
    }
   ],
   "source": [
    "# Count number of records per cluster\n",
    "cluster_sizes = df1['Cluster'].value_counts().sort_index()\n",
    "\n",
    "print(\"Cluster Sizes:\")\n",
    "print(cluster_sizes)"
   ]
  },
  {
   "cell_type": "markdown",
   "id": "3135bd67",
   "metadata": {},
   "source": [
    "Clusters 3 and 4 have the lowest size, 20 and 23 respectively"
   ]
  },
  {
   "cell_type": "code",
   "execution_count": 108,
   "id": "ce21a376",
   "metadata": {},
   "outputs": [
    {
     "name": "stdout",
     "output_type": "stream",
     "text": [
      "\n",
      "Cluster sizes with random_state=0:\n",
      "{3: 81, 2: 35, 1: 28, 5: 23, 0: 22, 4: 11}\n",
      "\n",
      "Cluster sizes with random_state=1:\n",
      "{0: 81, 1: 35, 3: 29, 4: 23, 5: 22, 2: 10}\n",
      "\n",
      "Cluster sizes with random_state=42:\n",
      "{0: 81, 1: 35, 5: 29, 3: 23, 4: 22, 2: 10}\n",
      "\n",
      "Cluster sizes with random_state=99:\n",
      "{0: 81, 4: 35, 5: 28, 3: 23, 1: 22, 2: 11}\n"
     ]
    }
   ],
   "source": [
    "# Try different random states\n",
    "results = {}\n",
    "for state in [0, 1, 42, 99]:\n",
    "    kmeans = KMeans(n_clusters=6, random_state=state, n_init=10)\n",
    "    df1[f'Cluster_state_{state}'] = kmeans.fit_predict(X)\n",
    "    results[state] = df1[f'Cluster_state_{state}'].value_counts().to_dict()\n",
    "\n",
    "# Show cluster assignments for each random state\n",
    "for state, counts in results.items():\n",
    "    print(f\"\\nCluster sizes with random_state={state}:\")\n",
    "    print(counts)"
   ]
  },
  {
   "cell_type": "code",
   "execution_count": 109,
   "id": "414b0d1a",
   "metadata": {},
   "outputs": [],
   "source": [
    "# Export dataset with cluster labels\n",
    "df1.to_csv(\"clustered_customers.csv\", index=False)"
   ]
  }
 ],
 "metadata": {
  "kernelspec": {
   "display_name": "Python 3",
   "language": "python",
   "name": "python3"
  },
  "language_info": {
   "codemirror_mode": {
    "name": "ipython",
    "version": 3
   },
   "file_extension": ".py",
   "mimetype": "text/x-python",
   "name": "python",
   "nbconvert_exporter": "python",
   "pygments_lexer": "ipython3",
   "version": "3.11.9"
  }
 },
 "nbformat": 4,
 "nbformat_minor": 5
}
